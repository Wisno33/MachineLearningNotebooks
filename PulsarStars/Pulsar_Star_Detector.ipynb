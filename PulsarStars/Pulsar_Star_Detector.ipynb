{
 "cells": [
  {
   "cell_type": "markdown",
   "metadata": {},
   "source": [
    "#  1) The Problem"
   ]
  },
  {
   "cell_type": "markdown",
   "metadata": {},
   "source": [
    "For this model we are trying to predict if a certian cosmic entity is a pulsar star. \n",
    "\n",
    "What is a pulsar star?\n",
    "A pulsar star is the remnant of a massive (larger than our sun) star that has gone a supernova. This leaves behind a dense core made of neutron. This is a neutron star a pulsar is a special class of neutron star. These pulsar stars are classified as such due to thier incredibly strong magnetic field (trillions of times bigger than earth on average). The strong magnetic fields emmit em-waves and are strong enough for radio telescopes to dectect on Earth. The use of these cosmic bodies to physicists is due to their near perfect period. The spin cycle on these stars is the most accurate natural clock in the universe this allows scientists to measure distances on astronomical scale and test the theory of relitivity (most notibly univeral gravity and gravitational waves). \n",
    "\n",
    "Given that information the accurate prediction of an entity being a pulsar or not is neccisary to scientific advancement. \n",
    "\n",
    "# Preformance Metrix\n",
    "\n",
    "Due to the nature of the problem we belive that the most important metric from which to measue the effectiveness of our model is precision. Even if we miss a few stars it is better to have minimal false positives because the misidentification of a star could lead to a waste of time and money. "
   ]
  },
  {
   "cell_type": "markdown",
   "metadata": {},
   "source": [
    "# 2) Collection of Data"
   ]
  },
  {
   "cell_type": "markdown",
   "metadata": {},
   "source": [
    "The data collected for this model was provided by www.kaggle.com. This data is the same as what is currently used to identify pulsar stars that is a collection of statistics based on the stars radio waves.\n",
    "\n",
    "Presentation with more information on pulsar stars. \n",
    "\n",
    "http://ipta.phys.wvu.edu/files/student-week-2017/IPTA2017_KuoLiu_pulsartiming.pdf"
   ]
  },
  {
   "cell_type": "markdown",
   "metadata": {},
   "source": [
    "# Code"
   ]
  },
  {
   "cell_type": "markdown",
   "metadata": {},
   "source": [
    "Imports libraries for data manipulation, models, and model scoring and evaluation."
   ]
  },
  {
   "cell_type": "code",
   "execution_count": 1,
   "metadata": {},
   "outputs": [],
   "source": [
    "import pandas as pd\n",
    "import numpy as np\n",
    "from sklearn import preprocessing\n",
    "from sklearn.model_selection import train_test_split\n",
    "from sklearn.metrics import classification_report\n",
    "from sklearn.linear_model import LogisticRegression\n",
    "from sklearn.neighbors import KNeighborsClassifier\n",
    "from sklearn.tree import DecisionTreeClassifier\n",
    "from sklearn.ensemble import RandomForestClassifier\n",
    "from sklearn.svm import SVC\n",
    "from sklearn.model_selection import cross_val_score, GridSearchCV, RandomizedSearchCV"
   ]
  },
  {
   "cell_type": "markdown",
   "metadata": {},
   "source": [
    "Reads the csv from local storage."
   ]
  },
  {
   "cell_type": "code",
   "execution_count": 2,
   "metadata": {},
   "outputs": [],
   "source": [
    "df = pd.read_csv('pulsar_stars.csv')"
   ]
  },
  {
   "cell_type": "markdown",
   "metadata": {},
   "source": [
    "# 3) Data Analysis"
   ]
  },
  {
   "cell_type": "markdown",
   "metadata": {},
   "source": [
    "Gets the shape of the dataframe for preprocessing."
   ]
  },
  {
   "cell_type": "code",
   "execution_count": 3,
   "metadata": {},
   "outputs": [
    {
     "data": {
      "text/plain": [
       "(17898, 9)"
      ]
     },
     "execution_count": 3,
     "metadata": {},
     "output_type": "execute_result"
    }
   ],
   "source": [
    "df.shape"
   ]
  },
  {
   "cell_type": "markdown",
   "metadata": {},
   "source": [
    "Prints some values so we can view what each column is named and consists of."
   ]
  },
  {
   "cell_type": "code",
   "execution_count": 4,
   "metadata": {},
   "outputs": [
    {
     "data": {
      "text/html": [
       "<div>\n",
       "<style scoped>\n",
       "    .dataframe tbody tr th:only-of-type {\n",
       "        vertical-align: middle;\n",
       "    }\n",
       "\n",
       "    .dataframe tbody tr th {\n",
       "        vertical-align: top;\n",
       "    }\n",
       "\n",
       "    .dataframe thead th {\n",
       "        text-align: right;\n",
       "    }\n",
       "</style>\n",
       "<table border=\"1\" class=\"dataframe\">\n",
       "  <thead>\n",
       "    <tr style=\"text-align: right;\">\n",
       "      <th></th>\n",
       "      <th>Mean of the integrated profile</th>\n",
       "      <th>Standard deviation of the integrated profile</th>\n",
       "      <th>Excess kurtosis of the integrated profile</th>\n",
       "      <th>Skewness of the integrated profile</th>\n",
       "      <th>Mean of the DM-SNR curve</th>\n",
       "      <th>Standard deviation of the DM-SNR curve</th>\n",
       "      <th>Excess kurtosis of the DM-SNR curve</th>\n",
       "      <th>Skewness of the DM-SNR curve</th>\n",
       "      <th>target_class</th>\n",
       "    </tr>\n",
       "  </thead>\n",
       "  <tbody>\n",
       "    <tr>\n",
       "      <th>0</th>\n",
       "      <td>140.562500</td>\n",
       "      <td>55.683782</td>\n",
       "      <td>-0.234571</td>\n",
       "      <td>-0.699648</td>\n",
       "      <td>3.199833</td>\n",
       "      <td>19.110426</td>\n",
       "      <td>7.975532</td>\n",
       "      <td>74.242225</td>\n",
       "      <td>0</td>\n",
       "    </tr>\n",
       "    <tr>\n",
       "      <th>1</th>\n",
       "      <td>102.507812</td>\n",
       "      <td>58.882430</td>\n",
       "      <td>0.465318</td>\n",
       "      <td>-0.515088</td>\n",
       "      <td>1.677258</td>\n",
       "      <td>14.860146</td>\n",
       "      <td>10.576487</td>\n",
       "      <td>127.393580</td>\n",
       "      <td>0</td>\n",
       "    </tr>\n",
       "    <tr>\n",
       "      <th>2</th>\n",
       "      <td>103.015625</td>\n",
       "      <td>39.341649</td>\n",
       "      <td>0.323328</td>\n",
       "      <td>1.051164</td>\n",
       "      <td>3.121237</td>\n",
       "      <td>21.744669</td>\n",
       "      <td>7.735822</td>\n",
       "      <td>63.171909</td>\n",
       "      <td>0</td>\n",
       "    </tr>\n",
       "    <tr>\n",
       "      <th>3</th>\n",
       "      <td>136.750000</td>\n",
       "      <td>57.178449</td>\n",
       "      <td>-0.068415</td>\n",
       "      <td>-0.636238</td>\n",
       "      <td>3.642977</td>\n",
       "      <td>20.959280</td>\n",
       "      <td>6.896499</td>\n",
       "      <td>53.593661</td>\n",
       "      <td>0</td>\n",
       "    </tr>\n",
       "    <tr>\n",
       "      <th>4</th>\n",
       "      <td>88.726562</td>\n",
       "      <td>40.672225</td>\n",
       "      <td>0.600866</td>\n",
       "      <td>1.123492</td>\n",
       "      <td>1.178930</td>\n",
       "      <td>11.468720</td>\n",
       "      <td>14.269573</td>\n",
       "      <td>252.567306</td>\n",
       "      <td>0</td>\n",
       "    </tr>\n",
       "  </tbody>\n",
       "</table>\n",
       "</div>"
      ],
      "text/plain": [
       "    Mean of the integrated profile  \\\n",
       "0                       140.562500   \n",
       "1                       102.507812   \n",
       "2                       103.015625   \n",
       "3                       136.750000   \n",
       "4                        88.726562   \n",
       "\n",
       "    Standard deviation of the integrated profile  \\\n",
       "0                                      55.683782   \n",
       "1                                      58.882430   \n",
       "2                                      39.341649   \n",
       "3                                      57.178449   \n",
       "4                                      40.672225   \n",
       "\n",
       "    Excess kurtosis of the integrated profile  \\\n",
       "0                                   -0.234571   \n",
       "1                                    0.465318   \n",
       "2                                    0.323328   \n",
       "3                                   -0.068415   \n",
       "4                                    0.600866   \n",
       "\n",
       "    Skewness of the integrated profile   Mean of the DM-SNR curve  \\\n",
       "0                            -0.699648                   3.199833   \n",
       "1                            -0.515088                   1.677258   \n",
       "2                             1.051164                   3.121237   \n",
       "3                            -0.636238                   3.642977   \n",
       "4                             1.123492                   1.178930   \n",
       "\n",
       "    Standard deviation of the DM-SNR curve  \\\n",
       "0                                19.110426   \n",
       "1                                14.860146   \n",
       "2                                21.744669   \n",
       "3                                20.959280   \n",
       "4                                11.468720   \n",
       "\n",
       "    Excess kurtosis of the DM-SNR curve   Skewness of the DM-SNR curve  \\\n",
       "0                              7.975532                      74.242225   \n",
       "1                             10.576487                     127.393580   \n",
       "2                              7.735822                      63.171909   \n",
       "3                              6.896499                      53.593661   \n",
       "4                             14.269573                     252.567306   \n",
       "\n",
       "   target_class  \n",
       "0             0  \n",
       "1             0  \n",
       "2             0  \n",
       "3             0  \n",
       "4             0  "
      ]
     },
     "execution_count": 4,
     "metadata": {},
     "output_type": "execute_result"
    }
   ],
   "source": [
    "df.head(5)"
   ]
  },
  {
   "cell_type": "markdown",
   "metadata": {},
   "source": [
    "Retrives data types for all columns so we can evaluate what is ready for preprocessing and what must be converted."
   ]
  },
  {
   "cell_type": "code",
   "execution_count": 5,
   "metadata": {},
   "outputs": [
    {
     "data": {
      "text/plain": [
       " Mean of the integrated profile                  float64\n",
       " Standard deviation of the integrated profile    float64\n",
       " Excess kurtosis of the integrated profile       float64\n",
       " Skewness of the integrated profile              float64\n",
       " Mean of the DM-SNR curve                        float64\n",
       " Standard deviation of the DM-SNR curve          float64\n",
       " Excess kurtosis of the DM-SNR curve             float64\n",
       " Skewness of the DM-SNR curve                    float64\n",
       "target_class                                       int64\n",
       "dtype: object"
      ]
     },
     "execution_count": 5,
     "metadata": {},
     "output_type": "execute_result"
    }
   ],
   "source": [
    "df.dtypes"
   ]
  },
  {
   "cell_type": "markdown",
   "metadata": {},
   "source": [
    "Allows us to view the general distributing of all values. This is a good way to see if particular columns should be standarized and or normalized."
   ]
  },
  {
   "cell_type": "code",
   "execution_count": 6,
   "metadata": {},
   "outputs": [
    {
     "data": {
      "image/png": "[encoded data removed]",
      "text/plain": [
       "<Figure size 1080x720 with 9 Axes>"
      ]
     },
     "metadata": {
      "needs_background": "light"
     },
     "output_type": "display_data"
    }
   ],
   "source": [
    "hist = df.hist(figsize=(15,10))"
   ]
  },
  {
   "cell_type": "markdown",
   "metadata": {},
   "source": [
    "Detailed statistical readout of the values."
   ]
  },
  {
   "cell_type": "code",
   "execution_count": 7,
   "metadata": {},
   "outputs": [
    {
     "data": {
      "text/html": [
       "<div>\n",
       "<style scoped>\n",
       "    .dataframe tbody tr th:only-of-type {\n",
       "        vertical-align: middle;\n",
       "    }\n",
       "\n",
       "    .dataframe tbody tr th {\n",
       "        vertical-align: top;\n",
       "    }\n",
       "\n",
       "    .dataframe thead th {\n",
       "        text-align: right;\n",
       "    }\n",
       "</style>\n",
       "<table border=\"1\" class=\"dataframe\">\n",
       "  <thead>\n",
       "    <tr style=\"text-align: right;\">\n",
       "      <th></th>\n",
       "      <th>Mean of the integrated profile</th>\n",
       "      <th>Standard deviation of the integrated profile</th>\n",
       "      <th>Excess kurtosis of the integrated profile</th>\n",
       "      <th>Skewness of the integrated profile</th>\n",
       "      <th>Mean of the DM-SNR curve</th>\n",
       "      <th>Standard deviation of the DM-SNR curve</th>\n",
       "      <th>Excess kurtosis of the DM-SNR curve</th>\n",
       "      <th>Skewness of the DM-SNR curve</th>\n",
       "      <th>target_class</th>\n",
       "    </tr>\n",
       "  </thead>\n",
       "  <tbody>\n",
       "    <tr>\n",
       "      <th>count</th>\n",
       "      <td>17898.000000</td>\n",
       "      <td>17898.000000</td>\n",
       "      <td>17898.000000</td>\n",
       "      <td>17898.000000</td>\n",
       "      <td>17898.000000</td>\n",
       "      <td>17898.000000</td>\n",
       "      <td>17898.000000</td>\n",
       "      <td>17898.000000</td>\n",
       "      <td>17898.000000</td>\n",
       "    </tr>\n",
       "    <tr>\n",
       "      <th>mean</th>\n",
       "      <td>111.079968</td>\n",
       "      <td>46.549532</td>\n",
       "      <td>0.477857</td>\n",
       "      <td>1.770279</td>\n",
       "      <td>12.614400</td>\n",
       "      <td>26.326515</td>\n",
       "      <td>8.303556</td>\n",
       "      <td>104.857709</td>\n",
       "      <td>0.091574</td>\n",
       "    </tr>\n",
       "    <tr>\n",
       "      <th>std</th>\n",
       "      <td>25.652935</td>\n",
       "      <td>6.843189</td>\n",
       "      <td>1.064040</td>\n",
       "      <td>6.167913</td>\n",
       "      <td>29.472897</td>\n",
       "      <td>19.470572</td>\n",
       "      <td>4.506092</td>\n",
       "      <td>106.514540</td>\n",
       "      <td>0.288432</td>\n",
       "    </tr>\n",
       "    <tr>\n",
       "      <th>min</th>\n",
       "      <td>5.812500</td>\n",
       "      <td>24.772042</td>\n",
       "      <td>-1.876011</td>\n",
       "      <td>-1.791886</td>\n",
       "      <td>0.213211</td>\n",
       "      <td>7.370432</td>\n",
       "      <td>-3.139270</td>\n",
       "      <td>-1.976976</td>\n",
       "      <td>0.000000</td>\n",
       "    </tr>\n",
       "    <tr>\n",
       "      <th>25%</th>\n",
       "      <td>100.929688</td>\n",
       "      <td>42.376018</td>\n",
       "      <td>0.027098</td>\n",
       "      <td>-0.188572</td>\n",
       "      <td>1.923077</td>\n",
       "      <td>14.437332</td>\n",
       "      <td>5.781506</td>\n",
       "      <td>34.960504</td>\n",
       "      <td>0.000000</td>\n",
       "    </tr>\n",
       "    <tr>\n",
       "      <th>50%</th>\n",
       "      <td>115.078125</td>\n",
       "      <td>46.947479</td>\n",
       "      <td>0.223240</td>\n",
       "      <td>0.198710</td>\n",
       "      <td>2.801839</td>\n",
       "      <td>18.461316</td>\n",
       "      <td>8.433515</td>\n",
       "      <td>83.064556</td>\n",
       "      <td>0.000000</td>\n",
       "    </tr>\n",
       "    <tr>\n",
       "      <th>75%</th>\n",
       "      <td>127.085938</td>\n",
       "      <td>51.023202</td>\n",
       "      <td>0.473325</td>\n",
       "      <td>0.927783</td>\n",
       "      <td>5.464256</td>\n",
       "      <td>28.428104</td>\n",
       "      <td>10.702959</td>\n",
       "      <td>139.309331</td>\n",
       "      <td>0.000000</td>\n",
       "    </tr>\n",
       "    <tr>\n",
       "      <th>max</th>\n",
       "      <td>192.617188</td>\n",
       "      <td>98.778911</td>\n",
       "      <td>8.069522</td>\n",
       "      <td>68.101622</td>\n",
       "      <td>223.392140</td>\n",
       "      <td>110.642211</td>\n",
       "      <td>34.539844</td>\n",
       "      <td>1191.000837</td>\n",
       "      <td>1.000000</td>\n",
       "    </tr>\n",
       "  </tbody>\n",
       "</table>\n",
       "</div>"
      ],
      "text/plain": [
       "        Mean of the integrated profile  \\\n",
       "count                     17898.000000   \n",
       "mean                        111.079968   \n",
       "std                          25.652935   \n",
       "min                           5.812500   \n",
       "25%                         100.929688   \n",
       "50%                         115.078125   \n",
       "75%                         127.085938   \n",
       "max                         192.617188   \n",
       "\n",
       "        Standard deviation of the integrated profile  \\\n",
       "count                                   17898.000000   \n",
       "mean                                       46.549532   \n",
       "std                                         6.843189   \n",
       "min                                        24.772042   \n",
       "25%                                        42.376018   \n",
       "50%                                        46.947479   \n",
       "75%                                        51.023202   \n",
       "max                                        98.778911   \n",
       "\n",
       "        Excess kurtosis of the integrated profile  \\\n",
       "count                                17898.000000   \n",
       "mean                                     0.477857   \n",
       "std                                      1.064040   \n",
       "min                                     -1.876011   \n",
       "25%                                      0.027098   \n",
       "50%                                      0.223240   \n",
       "75%                                      0.473325   \n",
       "max                                      8.069522   \n",
       "\n",
       "        Skewness of the integrated profile   Mean of the DM-SNR curve  \\\n",
       "count                         17898.000000               17898.000000   \n",
       "mean                              1.770279                  12.614400   \n",
       "std                               6.167913                  29.472897   \n",
       "min                              -1.791886                   0.213211   \n",
       "25%                              -0.188572                   1.923077   \n",
       "50%                               0.198710                   2.801839   \n",
       "75%                               0.927783                   5.464256   \n",
       "max                              68.101622                 223.392140   \n",
       "\n",
       "        Standard deviation of the DM-SNR curve  \\\n",
       "count                             17898.000000   \n",
       "mean                                 26.326515   \n",
       "std                                  19.470572   \n",
       "min                                   7.370432   \n",
       "25%                                  14.437332   \n",
       "50%                                  18.461316   \n",
       "75%                                  28.428104   \n",
       "max                                 110.642211   \n",
       "\n",
       "        Excess kurtosis of the DM-SNR curve   Skewness of the DM-SNR curve  \\\n",
       "count                          17898.000000                   17898.000000   \n",
       "mean                               8.303556                     104.857709   \n",
       "std                                4.506092                     106.514540   \n",
       "min                               -3.139270                      -1.976976   \n",
       "25%                                5.781506                      34.960504   \n",
       "50%                                8.433515                      83.064556   \n",
       "75%                               10.702959                     139.309331   \n",
       "max                               34.539844                    1191.000837   \n",
       "\n",
       "       target_class  \n",
       "count  17898.000000  \n",
       "mean       0.091574  \n",
       "std        0.288432  \n",
       "min        0.000000  \n",
       "25%        0.000000  \n",
       "50%        0.000000  \n",
       "75%        0.000000  \n",
       "max        1.000000  "
      ]
     },
     "execution_count": 7,
     "metadata": {},
     "output_type": "execute_result"
    }
   ],
   "source": [
    "df.describe()"
   ]
  },
  {
   "cell_type": "markdown",
   "metadata": {},
   "source": [
    "Table to describe how each column correlates with itself and others."
   ]
  },
  {
   "cell_type": "code",
   "execution_count": 8,
   "metadata": {},
   "outputs": [
    {
     "data": {
      "text/html": [
       "<div>\n",
       "<style scoped>\n",
       "    .dataframe tbody tr th:only-of-type {\n",
       "        vertical-align: middle;\n",
       "    }\n",
       "\n",
       "    .dataframe tbody tr th {\n",
       "        vertical-align: top;\n",
       "    }\n",
       "\n",
       "    .dataframe thead th {\n",
       "        text-align: right;\n",
       "    }\n",
       "</style>\n",
       "<table border=\"1\" class=\"dataframe\">\n",
       "  <thead>\n",
       "    <tr style=\"text-align: right;\">\n",
       "      <th></th>\n",
       "      <th>Mean of the integrated profile</th>\n",
       "      <th>Standard deviation of the integrated profile</th>\n",
       "      <th>Excess kurtosis of the integrated profile</th>\n",
       "      <th>Skewness of the integrated profile</th>\n",
       "      <th>Mean of the DM-SNR curve</th>\n",
       "      <th>Standard deviation of the DM-SNR curve</th>\n",
       "      <th>Excess kurtosis of the DM-SNR curve</th>\n",
       "      <th>Skewness of the DM-SNR curve</th>\n",
       "      <th>target_class</th>\n",
       "    </tr>\n",
       "  </thead>\n",
       "  <tbody>\n",
       "    <tr>\n",
       "      <th>Mean of the integrated profile</th>\n",
       "      <td>1.000000</td>\n",
       "      <td>0.547137</td>\n",
       "      <td>-0.873898</td>\n",
       "      <td>-0.738775</td>\n",
       "      <td>-0.298841</td>\n",
       "      <td>-0.307016</td>\n",
       "      <td>0.234331</td>\n",
       "      <td>0.144033</td>\n",
       "      <td>-0.673181</td>\n",
       "    </tr>\n",
       "    <tr>\n",
       "      <th>Standard deviation of the integrated profile</th>\n",
       "      <td>0.547137</td>\n",
       "      <td>1.000000</td>\n",
       "      <td>-0.521435</td>\n",
       "      <td>-0.539793</td>\n",
       "      <td>0.006869</td>\n",
       "      <td>-0.047632</td>\n",
       "      <td>0.029429</td>\n",
       "      <td>0.027691</td>\n",
       "      <td>-0.363708</td>\n",
       "    </tr>\n",
       "    <tr>\n",
       "      <th>Excess kurtosis of the integrated profile</th>\n",
       "      <td>-0.873898</td>\n",
       "      <td>-0.521435</td>\n",
       "      <td>1.000000</td>\n",
       "      <td>0.945729</td>\n",
       "      <td>0.414368</td>\n",
       "      <td>0.432880</td>\n",
       "      <td>-0.341209</td>\n",
       "      <td>-0.214491</td>\n",
       "      <td>0.791591</td>\n",
       "    </tr>\n",
       "    <tr>\n",
       "      <th>Skewness of the integrated profile</th>\n",
       "      <td>-0.738775</td>\n",
       "      <td>-0.539793</td>\n",
       "      <td>0.945729</td>\n",
       "      <td>1.000000</td>\n",
       "      <td>0.412056</td>\n",
       "      <td>0.415140</td>\n",
       "      <td>-0.328843</td>\n",
       "      <td>-0.204782</td>\n",
       "      <td>0.709528</td>\n",
       "    </tr>\n",
       "    <tr>\n",
       "      <th>Mean of the DM-SNR curve</th>\n",
       "      <td>-0.298841</td>\n",
       "      <td>0.006869</td>\n",
       "      <td>0.414368</td>\n",
       "      <td>0.412056</td>\n",
       "      <td>1.000000</td>\n",
       "      <td>0.796555</td>\n",
       "      <td>-0.615971</td>\n",
       "      <td>-0.354269</td>\n",
       "      <td>0.400876</td>\n",
       "    </tr>\n",
       "    <tr>\n",
       "      <th>Standard deviation of the DM-SNR curve</th>\n",
       "      <td>-0.307016</td>\n",
       "      <td>-0.047632</td>\n",
       "      <td>0.432880</td>\n",
       "      <td>0.415140</td>\n",
       "      <td>0.796555</td>\n",
       "      <td>1.000000</td>\n",
       "      <td>-0.809786</td>\n",
       "      <td>-0.575800</td>\n",
       "      <td>0.491535</td>\n",
       "    </tr>\n",
       "    <tr>\n",
       "      <th>Excess kurtosis of the DM-SNR curve</th>\n",
       "      <td>0.234331</td>\n",
       "      <td>0.029429</td>\n",
       "      <td>-0.341209</td>\n",
       "      <td>-0.328843</td>\n",
       "      <td>-0.615971</td>\n",
       "      <td>-0.809786</td>\n",
       "      <td>1.000000</td>\n",
       "      <td>0.923743</td>\n",
       "      <td>-0.390816</td>\n",
       "    </tr>\n",
       "    <tr>\n",
       "      <th>Skewness of the DM-SNR curve</th>\n",
       "      <td>0.144033</td>\n",
       "      <td>0.027691</td>\n",
       "      <td>-0.214491</td>\n",
       "      <td>-0.204782</td>\n",
       "      <td>-0.354269</td>\n",
       "      <td>-0.575800</td>\n",
       "      <td>0.923743</td>\n",
       "      <td>1.000000</td>\n",
       "      <td>-0.259117</td>\n",
       "    </tr>\n",
       "    <tr>\n",
       "      <th>target_class</th>\n",
       "      <td>-0.673181</td>\n",
       "      <td>-0.363708</td>\n",
       "      <td>0.791591</td>\n",
       "      <td>0.709528</td>\n",
       "      <td>0.400876</td>\n",
       "      <td>0.491535</td>\n",
       "      <td>-0.390816</td>\n",
       "      <td>-0.259117</td>\n",
       "      <td>1.000000</td>\n",
       "    </tr>\n",
       "  </tbody>\n",
       "</table>\n",
       "</div>"
      ],
      "text/plain": [
       "                                                Mean of the integrated profile  \\\n",
       " Mean of the integrated profile                                       1.000000   \n",
       " Standard deviation of the integrated profile                         0.547137   \n",
       " Excess kurtosis of the integrated profile                           -0.873898   \n",
       " Skewness of the integrated profile                                  -0.738775   \n",
       " Mean of the DM-SNR curve                                            -0.298841   \n",
       " Standard deviation of the DM-SNR curve                              -0.307016   \n",
       " Excess kurtosis of the DM-SNR curve                                  0.234331   \n",
       " Skewness of the DM-SNR curve                                         0.144033   \n",
       "target_class                                                         -0.673181   \n",
       "\n",
       "                                                Standard deviation of the integrated profile  \\\n",
       " Mean of the integrated profile                                                     0.547137   \n",
       " Standard deviation of the integrated profile                                       1.000000   \n",
       " Excess kurtosis of the integrated profile                                         -0.521435   \n",
       " Skewness of the integrated profile                                                -0.539793   \n",
       " Mean of the DM-SNR curve                                                           0.006869   \n",
       " Standard deviation of the DM-SNR curve                                            -0.047632   \n",
       " Excess kurtosis of the DM-SNR curve                                                0.029429   \n",
       " Skewness of the DM-SNR curve                                                       0.027691   \n",
       "target_class                                                                       -0.363708   \n",
       "\n",
       "                                                Excess kurtosis of the integrated profile  \\\n",
       " Mean of the integrated profile                                                 -0.873898   \n",
       " Standard deviation of the integrated profile                                   -0.521435   \n",
       " Excess kurtosis of the integrated profile                                       1.000000   \n",
       " Skewness of the integrated profile                                              0.945729   \n",
       " Mean of the DM-SNR curve                                                        0.414368   \n",
       " Standard deviation of the DM-SNR curve                                          0.432880   \n",
       " Excess kurtosis of the DM-SNR curve                                            -0.341209   \n",
       " Skewness of the DM-SNR curve                                                   -0.214491   \n",
       "target_class                                                                     0.791591   \n",
       "\n",
       "                                                Skewness of the integrated profile  \\\n",
       " Mean of the integrated profile                                          -0.738775   \n",
       " Standard deviation of the integrated profile                            -0.539793   \n",
       " Excess kurtosis of the integrated profile                                0.945729   \n",
       " Skewness of the integrated profile                                       1.000000   \n",
       " Mean of the DM-SNR curve                                                 0.412056   \n",
       " Standard deviation of the DM-SNR curve                                   0.415140   \n",
       " Excess kurtosis of the DM-SNR curve                                     -0.328843   \n",
       " Skewness of the DM-SNR curve                                            -0.204782   \n",
       "target_class                                                              0.709528   \n",
       "\n",
       "                                                Mean of the DM-SNR curve  \\\n",
       " Mean of the integrated profile                                -0.298841   \n",
       " Standard deviation of the integrated profile                   0.006869   \n",
       " Excess kurtosis of the integrated profile                      0.414368   \n",
       " Skewness of the integrated profile                             0.412056   \n",
       " Mean of the DM-SNR curve                                       1.000000   \n",
       " Standard deviation of the DM-SNR curve                         0.796555   \n",
       " Excess kurtosis of the DM-SNR curve                           -0.615971   \n",
       " Skewness of the DM-SNR curve                                  -0.354269   \n",
       "target_class                                                    0.400876   \n",
       "\n",
       "                                                Standard deviation of the DM-SNR curve  \\\n",
       " Mean of the integrated profile                                              -0.307016   \n",
       " Standard deviation of the integrated profile                                -0.047632   \n",
       " Excess kurtosis of the integrated profile                                    0.432880   \n",
       " Skewness of the integrated profile                                           0.415140   \n",
       " Mean of the DM-SNR curve                                                     0.796555   \n",
       " Standard deviation of the DM-SNR curve                                       1.000000   \n",
       " Excess kurtosis of the DM-SNR curve                                         -0.809786   \n",
       " Skewness of the DM-SNR curve                                                -0.575800   \n",
       "target_class                                                                  0.491535   \n",
       "\n",
       "                                                Excess kurtosis of the DM-SNR curve  \\\n",
       " Mean of the integrated profile                                            0.234331   \n",
       " Standard deviation of the integrated profile                              0.029429   \n",
       " Excess kurtosis of the integrated profile                                -0.341209   \n",
       " Skewness of the integrated profile                                       -0.328843   \n",
       " Mean of the DM-SNR curve                                                 -0.615971   \n",
       " Standard deviation of the DM-SNR curve                                   -0.809786   \n",
       " Excess kurtosis of the DM-SNR curve                                       1.000000   \n",
       " Skewness of the DM-SNR curve                                              0.923743   \n",
       "target_class                                                              -0.390816   \n",
       "\n",
       "                                                Skewness of the DM-SNR curve  \\\n",
       " Mean of the integrated profile                                     0.144033   \n",
       " Standard deviation of the integrated profile                       0.027691   \n",
       " Excess kurtosis of the integrated profile                         -0.214491   \n",
       " Skewness of the integrated profile                                -0.204782   \n",
       " Mean of the DM-SNR curve                                          -0.354269   \n",
       " Standard deviation of the DM-SNR curve                            -0.575800   \n",
       " Excess kurtosis of the DM-SNR curve                                0.923743   \n",
       " Skewness of the DM-SNR curve                                       1.000000   \n",
       "target_class                                                       -0.259117   \n",
       "\n",
       "                                               target_class  \n",
       " Mean of the integrated profile                   -0.673181  \n",
       " Standard deviation of the integrated profile     -0.363708  \n",
       " Excess kurtosis of the integrated profile         0.791591  \n",
       " Skewness of the integrated profile                0.709528  \n",
       " Mean of the DM-SNR curve                          0.400876  \n",
       " Standard deviation of the DM-SNR curve            0.491535  \n",
       " Excess kurtosis of the DM-SNR curve              -0.390816  \n",
       " Skewness of the DM-SNR curve                     -0.259117  \n",
       "target_class                                       1.000000  "
      ]
     },
     "execution_count": 8,
     "metadata": {},
     "output_type": "execute_result"
    }
   ],
   "source": [
    "df.corr()"
   ]
  },
  {
   "cell_type": "markdown",
   "metadata": {},
   "source": [
    "Extracts the correlation of all columns with the target_class column (the column where the entries will be clasified)."
   ]
  },
  {
   "cell_type": "code",
   "execution_count": 9,
   "metadata": {},
   "outputs": [
    {
     "data": {
      "text/plain": [
       "target_class                                     1.000000\n",
       " Excess kurtosis of the integrated profile       0.791591\n",
       " Skewness of the integrated profile              0.709528\n",
       " Standard deviation of the DM-SNR curve          0.491535\n",
       " Mean of the DM-SNR curve                        0.400876\n",
       " Skewness of the DM-SNR curve                   -0.259117\n",
       " Standard deviation of the integrated profile   -0.363708\n",
       " Excess kurtosis of the DM-SNR curve            -0.390816\n",
       " Mean of the integrated profile                 -0.673181\n",
       "Name: target_class, dtype: float64"
      ]
     },
     "execution_count": 9,
     "metadata": {},
     "output_type": "execute_result"
    }
   ],
   "source": [
    "correlations = df.corr()\n",
    "correlations['target_class'].sort_values(ascending=False)"
   ]
  },
  {
   "cell_type": "markdown",
   "metadata": {},
   "source": [
    "Allows for viewing of common values within each column."
   ]
  },
  {
   "cell_type": "code",
   "execution_count": 10,
   "metadata": {},
   "outputs": [
    {
     "name": "stdout",
     "output_type": "stream",
     "text": [
      "106.710938    12\n",
      "112.914062     9\n",
      "106.648438     9\n",
      "124.546875     9\n",
      "116.531250     8\n",
      "              ..\n",
      "147.476562     1\n",
      "114.656250     1\n",
      "129.257812     1\n",
      "133.625000     1\n",
      "48.265625      1\n",
      "Name:  Mean of the integrated profile, Length: 8626, dtype: int64\n",
      "42.312627    2\n",
      "51.042749    2\n",
      "38.904291    2\n",
      "47.466371    2\n",
      "45.035305    2\n",
      "            ..\n",
      "50.133883    1\n",
      "57.140717    1\n",
      "42.974099    1\n",
      "31.413432    1\n",
      "54.000000    1\n",
      "Name:  Standard deviation of the integrated profile, Length: 17862, dtype: int64\n",
      " 0.001934    2\n",
      " 0.199491    1\n",
      " 0.187485    1\n",
      " 0.320635    1\n",
      "-0.019211    1\n",
      "            ..\n",
      " 0.416888    1\n",
      " 5.200189    1\n",
      " 0.018238    1\n",
      "-0.514565    1\n",
      " 1.624541    1\n",
      "Name:  Excess kurtosis of the integrated profile, Length: 17897, dtype: int64\n",
      "-0.372092    1\n",
      " 0.426754    1\n",
      " 0.242227    1\n",
      "-0.141561    1\n",
      " 1.795040    1\n",
      "            ..\n",
      "-0.081486    1\n",
      "-0.245333    1\n",
      " 0.352747    1\n",
      " 0.135225    1\n",
      " 0.178402    1\n",
      "Name:  Skewness of the integrated profile, Length: 17898, dtype: int64\n",
      "2.294314     12\n",
      "2.050167     12\n",
      "1.423913     12\n",
      "2.332776     12\n",
      "2.418896     11\n",
      "             ..\n",
      "85.359532     1\n",
      "91.760033     1\n",
      "98.509197     1\n",
      "31.590301     1\n",
      "5.512542      1\n",
      "Name:  Mean of the DM-SNR curve, Length: 9000, dtype: int64\n",
      "7.370432     4\n",
      "11.575122    2\n",
      "33.400237    1\n",
      "23.494759    1\n",
      "18.127697    1\n",
      "            ..\n",
      "15.385702    1\n",
      "25.513267    1\n",
      "14.899707    1\n",
      "67.902648    1\n",
      "34.681042    1\n",
      "Name:  Standard deviation of the DM-SNR curve, Length: 17894, dtype: int64\n",
      "34.539844    4\n",
      "6.797179     1\n",
      "2.201685     1\n",
      "1.781492     1\n",
      "8.584544     1\n",
      "            ..\n",
      "8.479244     1\n",
      "6.495985     1\n",
      "9.677320     1\n",
      "9.831383     1\n",
      "5.044549     1\n",
      "Name:  Excess kurtosis of the DM-SNR curve, Length: 17895, dtype: int64\n",
      "1191.000837    4\n",
      "200.798936     1\n",
      "308.118871     1\n",
      "201.862085     1\n",
      "106.522692     1\n",
      "              ..\n",
      "149.252476     1\n",
      "57.141422      1\n",
      "41.096603      1\n",
      "103.478021     1\n",
      "120.795529     1\n",
      "Name:  Skewness of the DM-SNR curve, Length: 17895, dtype: int64\n",
      "0    16259\n",
      "1     1639\n",
      "Name: target_class, dtype: int64\n"
     ]
    }
   ],
   "source": [
    "for x in df.columns:\n",
    "    print(df[x].value_counts())"
   ]
  },
  {
   "cell_type": "markdown",
   "metadata": {},
   "source": [
    "Saves the feature columns(1-8) and the label column(9) names into seperate variables for preprocessing."
   ]
  },
  {
   "cell_type": "code",
   "execution_count": 11,
   "metadata": {},
   "outputs": [],
   "source": [
    "feature_cols = df.columns[0:-1]\n",
    "label_col = df.columns[-1]"
   ]
  },
  {
   "cell_type": "markdown",
   "metadata": {},
   "source": [
    "View of the colunms in each variable."
   ]
  },
  {
   "cell_type": "code",
   "execution_count": 12,
   "metadata": {},
   "outputs": [
    {
     "name": "stdout",
     "output_type": "stream",
     "text": [
      "Index([' Mean of the integrated profile',\n",
      "       ' Standard deviation of the integrated profile',\n",
      "       ' Excess kurtosis of the integrated profile',\n",
      "       ' Skewness of the integrated profile', ' Mean of the DM-SNR curve',\n",
      "       ' Standard deviation of the DM-SNR curve',\n",
      "       ' Excess kurtosis of the DM-SNR curve',\n",
      "       ' Skewness of the DM-SNR curve'],\n",
      "      dtype='object')\n",
      "target_class\n"
     ]
    }
   ],
   "source": [
    "print(feature_cols)\n",
    "print(label_col)"
   ]
  },
  {
   "cell_type": "markdown",
   "metadata": {},
   "source": [
    "# 4) Preprocessing / Feature Engineering"
   ]
  },
  {
   "cell_type": "markdown",
   "metadata": {},
   "source": [
    "Standarization of all the values in the feature columns. Prints histogram to view the \"normal\" distribution."
   ]
  },
  {
   "cell_type": "code",
   "execution_count": 13,
   "metadata": {},
   "outputs": [
    {
     "data": {
      "image/png": "[encoded data removed]",
      "text/plain": [
       "<Figure size 1080x720 with 9 Axes>"
      ]
     },
     "metadata": {
      "needs_background": "light"
     },
     "output_type": "display_data"
    }
   ],
   "source": [
    "standardization_scaler = preprocessing.StandardScaler()\n",
    "unscaled_features = df[feature_cols]\n",
    "standardized_features = standardization_scaler.fit_transform(unscaled_features)\n",
    "feature_df_standardized = pd.DataFrame(standardized_features)\n",
    "standard_hist = feature_df_standardized.hist(figsize=(15,10))"
   ]
  },
  {
   "cell_type": "markdown",
   "metadata": {},
   "source": [
    "Normalization of the standardized feature colunms. Prints for viewing."
   ]
  },
  {
   "cell_type": "code",
   "execution_count": 14,
   "metadata": {},
   "outputs": [
    {
     "data": {
      "text/html": [
       "<div>\n",
       "<style scoped>\n",
       "    .dataframe tbody tr th:only-of-type {\n",
       "        vertical-align: middle;\n",
       "    }\n",
       "\n",
       "    .dataframe tbody tr th {\n",
       "        vertical-align: top;\n",
       "    }\n",
       "\n",
       "    .dataframe thead th {\n",
       "        text-align: right;\n",
       "    }\n",
       "</style>\n",
       "<table border=\"1\" class=\"dataframe\">\n",
       "  <thead>\n",
       "    <tr style=\"text-align: right;\">\n",
       "      <th></th>\n",
       "      <th>0</th>\n",
       "      <th>1</th>\n",
       "      <th>2</th>\n",
       "      <th>3</th>\n",
       "      <th>4</th>\n",
       "      <th>5</th>\n",
       "      <th>6</th>\n",
       "      <th>7</th>\n",
       "    </tr>\n",
       "  </thead>\n",
       "  <tbody>\n",
       "    <tr>\n",
       "      <th>0</th>\n",
       "      <td>0.721342</td>\n",
       "      <td>0.417687</td>\n",
       "      <td>0.165043</td>\n",
       "      <td>0.015627</td>\n",
       "      <td>0.013382</td>\n",
       "      <td>0.113681</td>\n",
       "      <td>0.294986</td>\n",
       "      <td>0.063890</td>\n",
       "    </tr>\n",
       "    <tr>\n",
       "      <th>1</th>\n",
       "      <td>0.517628</td>\n",
       "      <td>0.460908</td>\n",
       "      <td>0.235415</td>\n",
       "      <td>0.018268</td>\n",
       "      <td>0.006560</td>\n",
       "      <td>0.072524</td>\n",
       "      <td>0.364015</td>\n",
       "      <td>0.108443</td>\n",
       "    </tr>\n",
       "    <tr>\n",
       "      <th>2</th>\n",
       "      <td>0.520346</td>\n",
       "      <td>0.196868</td>\n",
       "      <td>0.221138</td>\n",
       "      <td>0.040677</td>\n",
       "      <td>0.013030</td>\n",
       "      <td>0.139188</td>\n",
       "      <td>0.288624</td>\n",
       "      <td>0.054610</td>\n",
       "    </tr>\n",
       "    <tr>\n",
       "      <th>3</th>\n",
       "      <td>0.700933</td>\n",
       "      <td>0.437884</td>\n",
       "      <td>0.181750</td>\n",
       "      <td>0.016534</td>\n",
       "      <td>0.015368</td>\n",
       "      <td>0.131583</td>\n",
       "      <td>0.266348</td>\n",
       "      <td>0.046581</td>\n",
       "    </tr>\n",
       "    <tr>\n",
       "      <th>4</th>\n",
       "      <td>0.443854</td>\n",
       "      <td>0.214847</td>\n",
       "      <td>0.249044</td>\n",
       "      <td>0.041712</td>\n",
       "      <td>0.004327</td>\n",
       "      <td>0.039684</td>\n",
       "      <td>0.462029</td>\n",
       "      <td>0.213369</td>\n",
       "    </tr>\n",
       "    <tr>\n",
       "      <th>...</th>\n",
       "      <td>...</td>\n",
       "      <td>...</td>\n",
       "      <td>...</td>\n",
       "      <td>...</td>\n",
       "      <td>...</td>\n",
       "      <td>...</td>\n",
       "      <td>...</td>\n",
       "      <td>...</td>\n",
       "    </tr>\n",
       "    <tr>\n",
       "      <th>17893</th>\n",
       "      <td>0.699218</td>\n",
       "      <td>0.473948</td>\n",
       "      <td>0.169741</td>\n",
       "      <td>0.015077</td>\n",
       "      <td>0.004855</td>\n",
       "      <td>0.046437</td>\n",
       "      <td>0.493364</td>\n",
       "      <td>0.241336</td>\n",
       "    </tr>\n",
       "    <tr>\n",
       "      <th>17894</th>\n",
       "      <td>0.624942</td>\n",
       "      <td>0.333936</td>\n",
       "      <td>0.201496</td>\n",
       "      <td>0.030260</td>\n",
       "      <td>0.072572</td>\n",
       "      <td>0.360761</td>\n",
       "      <td>0.161482</td>\n",
       "      <td>0.008612</td>\n",
       "    </tr>\n",
       "    <tr>\n",
       "      <th>17895</th>\n",
       "      <td>0.607712</td>\n",
       "      <td>0.475144</td>\n",
       "      <td>0.204652</td>\n",
       "      <td>0.015007</td>\n",
       "      <td>0.095069</td>\n",
       "      <td>0.498699</td>\n",
       "      <td>0.149653</td>\n",
       "      <td>0.005509</td>\n",
       "    </tr>\n",
       "    <tr>\n",
       "      <th>17896</th>\n",
       "      <td>0.581866</td>\n",
       "      <td>0.393617</td>\n",
       "      <td>0.208855</td>\n",
       "      <td>0.025283</td>\n",
       "      <td>0.007766</td>\n",
       "      <td>0.058209</td>\n",
       "      <td>0.348926</td>\n",
       "      <td>0.114181</td>\n",
       "    </tr>\n",
       "    <tr>\n",
       "      <th>17897</th>\n",
       "      <td>0.274351</td>\n",
       "      <td>0.824590</td>\n",
       "      <td>0.330038</td>\n",
       "      <td>0.026918</td>\n",
       "      <td>0.842789</td>\n",
       "      <td>0.555255</td>\n",
       "      <td>0.040918</td>\n",
       "      <td>0.002855</td>\n",
       "    </tr>\n",
       "  </tbody>\n",
       "</table>\n",
       "<p>17898 rows × 8 columns</p>\n",
       "</div>"
      ],
      "text/plain": [
       "              0         1         2         3         4         5         6  \\\n",
       "0      0.721342  0.417687  0.165043  0.015627  0.013382  0.113681  0.294986   \n",
       "1      0.517628  0.460908  0.235415  0.018268  0.006560  0.072524  0.364015   \n",
       "2      0.520346  0.196868  0.221138  0.040677  0.013030  0.139188  0.288624   \n",
       "3      0.700933  0.437884  0.181750  0.016534  0.015368  0.131583  0.266348   \n",
       "4      0.443854  0.214847  0.249044  0.041712  0.004327  0.039684  0.462029   \n",
       "...         ...       ...       ...       ...       ...       ...       ...   \n",
       "17893  0.699218  0.473948  0.169741  0.015077  0.004855  0.046437  0.493364   \n",
       "17894  0.624942  0.333936  0.201496  0.030260  0.072572  0.360761  0.161482   \n",
       "17895  0.607712  0.475144  0.204652  0.015007  0.095069  0.498699  0.149653   \n",
       "17896  0.581866  0.393617  0.208855  0.025283  0.007766  0.058209  0.348926   \n",
       "17897  0.274351  0.824590  0.330038  0.026918  0.842789  0.555255  0.040918   \n",
       "\n",
       "              7  \n",
       "0      0.063890  \n",
       "1      0.108443  \n",
       "2      0.054610  \n",
       "3      0.046581  \n",
       "4      0.213369  \n",
       "...         ...  \n",
       "17893  0.241336  \n",
       "17894  0.008612  \n",
       "17895  0.005509  \n",
       "17896  0.114181  \n",
       "17897  0.002855  \n",
       "\n",
       "[17898 rows x 8 columns]"
      ]
     },
     "execution_count": 14,
     "metadata": {},
     "output_type": "execute_result"
    }
   ],
   "source": [
    "normalization_scaler = preprocessing.MinMaxScaler()\n",
    "standardized_features = feature_df_standardized\n",
    "standard_norm_features = normalization_scaler.fit_transform(standardized_features)\n",
    "feature_df_standard_norm = pd.DataFrame(standard_norm_features)\n",
    "feature_df_standard_norm"
   ]
  },
  {
   "cell_type": "markdown",
   "metadata": {},
   "source": [
    "# 5) Baseline"
   ]
  },
  {
   "cell_type": "markdown",
   "metadata": {},
   "source": [
    "Before we run any models we need to set a baseline. \n",
    "\n",
    "Currently in order to process these statistic and more to identify pulsar stars scientists currently use a software called Presto that integrates with Pulsar SQL. Essentialy preformes a large sum of Fourier transforms on these datasets and uses harmonics (standing waves) to validate the frequency signal at different integer itervals. \n",
    "\n",
    "The reason why machine learning would benefit this problem is due to the abundance of resources used in finding a pulsar star. The data must be sorted in a large database and then intensive calculations must be preformed to get it into a more condenced form. Then the resulting data must be analyzed offten by hand due to the varriety of wave patterns and complexity. While many of these computations must still take place to get the data in form for our model we hope to eliminate the time scientists must take to analize the data.\n",
    "\n",
    "http://pulsarsearchcollaboratory.com/wp-content/uploads/2016/01/PSC_search_guide.pdf"
   ]
  },
  {
   "cell_type": "markdown",
   "metadata": {},
   "source": [
    "#  6) Models"
   ]
  },
  {
   "cell_type": "markdown",
   "metadata": {},
   "source": [
    "The models we have selected to train are: Logistic Regression, K-Nearest-Neighbors, Decision Tree, Random Forest, and Support Vector Classifier.\n",
    "\n",
    "We we train these models and then see which 2 preform best for further fine tuning. "
   ]
  },
  {
   "cell_type": "markdown",
   "metadata": {},
   "source": [
    "Loads the columns into x and y for training and testing."
   ]
  },
  {
   "cell_type": "code",
   "execution_count": 15,
   "metadata": {},
   "outputs": [],
   "source": [
    "x = feature_df_standard_norm\n",
    "y = df[label_col]"
   ]
  },
  {
   "cell_type": "markdown",
   "metadata": {},
   "source": [
    "Verify data shape before inputing."
   ]
  },
  {
   "cell_type": "code",
   "execution_count": 16,
   "metadata": {},
   "outputs": [
    {
     "name": "stdout",
     "output_type": "stream",
     "text": [
      "(17898, 8)\n",
      "(17898,)\n"
     ]
    }
   ],
   "source": [
    "print(x.shape)\n",
    "print(y.shape)"
   ]
  },
  {
   "cell_type": "markdown",
   "metadata": {},
   "source": [
    "Splits the data into a stratified train and test set (80, 20)."
   ]
  },
  {
   "cell_type": "code",
   "execution_count": 17,
   "metadata": {},
   "outputs": [
    {
     "name": "stdout",
     "output_type": "stream",
     "text": [
      "(14318, 8) (14318,) (3580, 8) (3580,)\n"
     ]
    }
   ],
   "source": [
    "x_train, x_test, y_train, y_test = train_test_split(x, y, test_size=0.20, stratify=y)\n",
    "print(x_train.shape, y_train.shape, x_test.shape, y_test.shape)"
   ]
  },
  {
   "cell_type": "markdown",
   "metadata": {},
   "source": [
    "Checks the occurence of the target_class in each set (we want these values to be equal)."
   ]
  },
  {
   "cell_type": "code",
   "execution_count": 18,
   "metadata": {},
   "outputs": [
    {
     "name": "stdout",
     "output_type": "stream",
     "text": [
      "0    0.908437\n",
      "1    0.091563\n",
      "Name: target_class, dtype: float64\n",
      "0    0.90838\n",
      "1    0.09162\n",
      "Name: target_class, dtype: float64\n"
     ]
    }
   ],
   "source": [
    "print(y_train.value_counts()/len(y_train))\n",
    "print(y_test.value_counts()/len(y_test))"
   ]
  },
  {
   "cell_type": "markdown",
   "metadata": {},
   "source": [
    "Creates a dictionary with the models to be created, along with a list of their corresponding names."
   ]
  },
  {
   "cell_type": "code",
   "execution_count": 19,
   "metadata": {},
   "outputs": [],
   "source": [
    "model_types = {\n",
    "    \"LogisticRegression\": LogisticRegression(solver='lbfgs', class_weight={0:1, 1:10}, max_iter=100000),\n",
    "    \"KNeighborsClassifier\": KNeighborsClassifier(algorithm='brute'),\n",
    "    \"DecisionTreeClassifier\": DecisionTreeClassifier(class_weight={0:1, 1:10}),\n",
    "    \"RandomForestClassifier\": RandomForestClassifier(n_estimators=10, class_weight={0:1, 1:10}),\n",
    "    \"SVC\": SVC(class_weight={0:1, 1:10}, max_iter=-1)\n",
    "}\n",
    "model_names = list()\n",
    "for key in model_types:\n",
    "    model_names.append(key)"
   ]
  },
  {
   "cell_type": "markdown",
   "metadata": {},
   "source": [
    "Iterates through the models in the dictionary, trains them, and then appends the model into a dictionary for storage."
   ]
  },
  {
   "cell_type": "code",
   "execution_count": 20,
   "metadata": {},
   "outputs": [
    {
     "name": "stdout",
     "output_type": "stream",
     "text": [
      "LogisticRegression(C=1.0, class_weight={0: 1, 1: 10}, dual=False,\n",
      "                   fit_intercept=True, intercept_scaling=1, l1_ratio=None,\n",
      "                   max_iter=100000, multi_class='auto', n_jobs=None,\n",
      "                   penalty='l2', random_state=None, solver='lbfgs', tol=0.0001,\n",
      "                   verbose=0, warm_start=False)\n",
      "KNeighborsClassifier(algorithm='brute', leaf_size=30, metric='minkowski',\n",
      "                     metric_params=None, n_jobs=None, n_neighbors=5, p=2,\n",
      "                     weights='uniform')\n",
      "DecisionTreeClassifier(ccp_alpha=0.0, class_weight={0: 1, 1: 10},\n",
      "                       criterion='gini', max_depth=None, max_features=None,\n",
      "                       max_leaf_nodes=None, min_impurity_decrease=0.0,\n",
      "                       min_impurity_split=None, min_samples_leaf=1,\n",
      "                       min_samples_split=2, min_weight_fraction_leaf=0.0,\n",
      "                       presort='deprecated', random_state=None,\n",
      "                       splitter='best')\n",
      "RandomForestClassifier(bootstrap=True, ccp_alpha=0.0,\n",
      "                       class_weight={0: 1, 1: 10}, criterion='gini',\n",
      "                       max_depth=None, max_features='auto', max_leaf_nodes=None,\n",
      "                       max_samples=None, min_impurity_decrease=0.0,\n",
      "                       min_impurity_split=None, min_samples_leaf=1,\n",
      "                       min_samples_split=2, min_weight_fraction_leaf=0.0,\n",
      "                       n_estimators=10, n_jobs=None, oob_score=False,\n",
      "                       random_state=None, verbose=0, warm_start=False)\n",
      "SVC(C=1.0, break_ties=False, cache_size=200, class_weight={0: 1, 1: 10},\n",
      "    coef0=0.0, decision_function_shape='ovr', degree=3, gamma='scale',\n",
      "    kernel='rbf', max_iter=-1, probability=False, random_state=None,\n",
      "    shrinking=True, tol=0.001, verbose=False)\n"
     ]
    }
   ],
   "source": [
    "models = {}\n",
    "counter = 0\n",
    "for key in model_types:\n",
    "    temp_model = model_types[key]\n",
    "    temp_model.fit(x_train.values, y_train.values)\n",
    "    models.update({model_names[counter]:temp_model})\n",
    "    print(temp_model)\n",
    "    counter += 1"
   ]
  },
  {
   "cell_type": "markdown",
   "metadata": {},
   "source": [
    "Prints the metrix report for all the models along with their names."
   ]
  },
  {
   "cell_type": "code",
   "execution_count": 21,
   "metadata": {},
   "outputs": [
    {
     "name": "stdout",
     "output_type": "stream",
     "text": [
      "LogisticRegression\n",
      "              precision    recall  f1-score   support\n",
      "\n",
      "           0       0.99      0.97      0.98      3252\n",
      "           1       0.75      0.90      0.82       328\n",
      "\n",
      "    accuracy                           0.96      3580\n",
      "   macro avg       0.87      0.93      0.90      3580\n",
      "weighted avg       0.97      0.96      0.96      3580\n",
      "\n",
      "KNeighborsClassifier\n",
      "              precision    recall  f1-score   support\n",
      "\n",
      "           0       0.98      0.99      0.99      3252\n",
      "           1       0.91      0.79      0.84       328\n",
      "\n",
      "    accuracy                           0.97      3580\n",
      "   macro avg       0.94      0.89      0.91      3580\n",
      "weighted avg       0.97      0.97      0.97      3580\n",
      "\n",
      "DecisionTreeClassifier\n",
      "              precision    recall  f1-score   support\n",
      "\n",
      "           0       0.98      0.98      0.98      3252\n",
      "           1       0.78      0.81      0.79       328\n",
      "\n",
      "    accuracy                           0.96      3580\n",
      "   macro avg       0.88      0.89      0.89      3580\n",
      "weighted avg       0.96      0.96      0.96      3580\n",
      "\n",
      "RandomForestClassifier\n",
      "              precision    recall  f1-score   support\n",
      "\n",
      "           0       0.98      0.99      0.99      3252\n",
      "           1       0.93      0.80      0.86       328\n",
      "\n",
      "    accuracy                           0.98      3580\n",
      "   macro avg       0.95      0.90      0.92      3580\n",
      "weighted avg       0.98      0.98      0.98      3580\n",
      "\n",
      "SVC\n",
      "              precision    recall  f1-score   support\n",
      "\n",
      "           0       0.99      0.98      0.98      3252\n",
      "           1       0.81      0.91      0.86       328\n",
      "\n",
      "    accuracy                           0.97      3580\n",
      "   macro avg       0.90      0.95      0.92      3580\n",
      "weighted avg       0.97      0.97      0.97      3580\n",
      "\n"
     ]
    }
   ],
   "source": [
    "for key in models:\n",
    "    print(key)\n",
    "    print(classification_report(y_test.values, models[key].predict(x_test.values)))"
   ]
  },
  {
   "cell_type": "markdown",
   "metadata": {},
   "source": [
    "The two models with the highest precision are selected. This is because we want to minimize false positives as the could mean wasted time and reasearch if a star is misidenttified. The others are deleted."
   ]
  },
  {
   "cell_type": "code",
   "execution_count": 22,
   "metadata": {},
   "outputs": [],
   "source": [
    "del models['LogisticRegression']\n",
    "del models['DecisionTreeClassifier']\n",
    "del models['SVC']"
   ]
  },
  {
   "cell_type": "markdown",
   "metadata": {},
   "source": [
    "Cross validation for our models for precision."
   ]
  },
  {
   "cell_type": "code",
   "execution_count": 23,
   "metadata": {},
   "outputs": [
    {
     "name": "stdout",
     "output_type": "stream",
     "text": [
      "0.9207377835245534\n",
      "0.9387615981293397\n"
     ]
    }
   ],
   "source": [
    "for key in models:\n",
    "    print(np.mean(cross_val_score(models[key], x, y, cv=5, scoring='precision')))"
   ]
  },
  {
   "cell_type": "markdown",
   "metadata": {},
   "source": [
    "Random search for best randomforest hyperparameters using a blank model. Random search is chosen because the amount of combinations for a gridsearch would not be a feasible task. "
   ]
  },
  {
   "cell_type": "code",
   "execution_count": 24,
   "metadata": {
    "scrolled": false
   },
   "outputs": [
    {
     "name": "stdout",
     "output_type": "stream",
     "text": [
      "Fitting 5 folds for each of 10 candidates, totalling 50 fits\n"
     ]
    },
    {
     "name": "stderr",
     "output_type": "stream",
     "text": [
      "[Parallel(n_jobs=-1)]: Using backend LokyBackend with 12 concurrent workers.\n",
      "[Parallel(n_jobs=-1)]: Done  17 tasks      | elapsed:  1.1min\n",
      "[Parallel(n_jobs=-1)]: Done  50 out of  50 | elapsed:  2.8min finished\n"
     ]
    },
    {
     "data": {
      "text/plain": [
       "RandomizedSearchCV(cv=5, error_score=nan,\n",
       "                   estimator=RandomForestClassifier(bootstrap=True,\n",
       "                                                    ccp_alpha=0.0,\n",
       "                                                    class_weight=None,\n",
       "                                                    criterion='gini',\n",
       "                                                    max_depth=None,\n",
       "                                                    max_features='auto',\n",
       "                                                    max_leaf_nodes=None,\n",
       "                                                    max_samples=None,\n",
       "                                                    min_impurity_decrease=0.0,\n",
       "                                                    min_impurity_split=None,\n",
       "                                                    min_samples_leaf=1,\n",
       "                                                    min_samples_split=2,\n",
       "                                                    min_weight_fraction_leaf=0.0,\n",
       "                                                    n_estimators=100,\n",
       "                                                    n_jobs...\n",
       "                   param_distributions={'bootstrap': [True, False],\n",
       "                                        'max_depth': [10, 20, 30, 40, 50, 60,\n",
       "                                                      70, 80, 90, 100, None],\n",
       "                                        'max_features': ['auto', 'sqrt'],\n",
       "                                        'min_samples_leaf': [1, 2, 4],\n",
       "                                        'min_samples_split': [2, 5, 10],\n",
       "                                        'n_estimators': [200, 400, 600, 800,\n",
       "                                                         1000, 1200, 1400, 1600,\n",
       "                                                         1800, 2000]},\n",
       "                   pre_dispatch='2*n_jobs', random_state=None, refit=True,\n",
       "                   return_train_score=False, scoring='precision', verbose=2)"
      ]
     },
     "execution_count": 24,
     "metadata": {},
     "output_type": "execute_result"
    }
   ],
   "source": [
    "params = {\n",
    "    'bootstrap': [True, False],\n",
    "    'max_depth': [10, 20, 30, 40, 50, 60, 70, 80, 90, 100, None],\n",
    "    'max_features': ['auto', 'sqrt'],\n",
    "    'min_samples_leaf': [1, 2, 4],\n",
    "    'min_samples_split': [2, 5, 10],\n",
    "    'n_estimators': [200, 400, 600, 800, 1000, 1200, 1400, 1600, 1800, 2000]\n",
    "}\n",
    "\n",
    "rfc = RandomForestClassifier()\n",
    "\n",
    "rs = RandomizedSearchCV(estimator = rfc, param_distributions = params, n_iter = 10, n_jobs = -1, cv = 5, verbose=2, scoring='precision')\n",
    "rs.fit(x_train.values, y_train.values)"
   ]
  },
  {
   "cell_type": "markdown",
   "metadata": {},
   "source": [
    "Best parameters found by the random search. "
   ]
  },
  {
   "cell_type": "code",
   "execution_count": 25,
   "metadata": {},
   "outputs": [
    {
     "data": {
      "text/plain": [
       "{'n_estimators': 1400,\n",
       " 'min_samples_split': 10,\n",
       " 'min_samples_leaf': 1,\n",
       " 'max_features': 'auto',\n",
       " 'max_depth': 10,\n",
       " 'bootstrap': False}"
      ]
     },
     "execution_count": 25,
     "metadata": {},
     "output_type": "execute_result"
    }
   ],
   "source": [
    "rs.best_params_"
   ]
  },
  {
   "cell_type": "markdown",
   "metadata": {},
   "source": [
    "Replaces the old random forest model with the hyperparameter tuned version."
   ]
  },
  {
   "cell_type": "code",
   "execution_count": 26,
   "metadata": {},
   "outputs": [
    {
     "data": {
      "text/plain": [
       "RandomForestClassifier(bootstrap=False, ccp_alpha=0.0, class_weight=None,\n",
       "                       criterion='gini', max_depth=10, max_features='auto',\n",
       "                       max_leaf_nodes=None, max_samples=None,\n",
       "                       min_impurity_decrease=0.0, min_impurity_split=None,\n",
       "                       min_samples_leaf=1, min_samples_split=10,\n",
       "                       min_weight_fraction_leaf=0.0, n_estimators=1400,\n",
       "                       n_jobs=None, oob_score=False, random_state=None,\n",
       "                       verbose=0, warm_start=False)"
      ]
     },
     "execution_count": 26,
     "metadata": {},
     "output_type": "execute_result"
    }
   ],
   "source": [
    "models['RandomForestClassifier'] = rs.best_estimator_\n",
    "models['RandomForestClassifier'].fit(x_train.values, y_train.values)"
   ]
  },
  {
   "cell_type": "markdown",
   "metadata": {},
   "source": [
    "Preformance metrix for new random forest model."
   ]
  },
  {
   "cell_type": "code",
   "execution_count": 27,
   "metadata": {},
   "outputs": [
    {
     "name": "stdout",
     "output_type": "stream",
     "text": [
      "              precision    recall  f1-score   support\n",
      "\n",
      "           0       0.98      0.99      0.99      3252\n",
      "           1       0.92      0.82      0.87       328\n",
      "\n",
      "    accuracy                           0.98      3580\n",
      "   macro avg       0.95      0.91      0.93      3580\n",
      "weighted avg       0.98      0.98      0.98      3580\n",
      "\n"
     ]
    }
   ],
   "source": [
    " print(classification_report(y_test.values, models['RandomForestClassifier'].predict(x_test.values)))"
   ]
  },
  {
   "cell_type": "markdown",
   "metadata": {},
   "source": [
    "Gridsearch for best hyperparameters for the K-nearest-neighbors model. Due to a lower number of combinations this search is possible."
   ]
  },
  {
   "cell_type": "code",
   "execution_count": 28,
   "metadata": {},
   "outputs": [
    {
     "data": {
      "text/plain": [
       "GridSearchCV(cv=5, error_score=nan,\n",
       "             estimator=KNeighborsClassifier(algorithm='auto', leaf_size=30,\n",
       "                                            metric='minkowski',\n",
       "                                            metric_params=None, n_jobs=None,\n",
       "                                            n_neighbors=5, p=2,\n",
       "                                            weights='uniform'),\n",
       "             iid='deprecated', n_jobs=None,\n",
       "             param_grid={'algorithm': ['auto', 'ball_tree', 'kd_tree', 'brute'],\n",
       "                         'n_neighbors': [5, 10, 100]},\n",
       "             pre_dispatch='2*n_jobs', refit=True, return_train_score=False,\n",
       "             scoring='precision', verbose=0)"
      ]
     },
     "execution_count": 28,
     "metadata": {},
     "output_type": "execute_result"
    }
   ],
   "source": [
    "knn_params = {\n",
    "    'n_neighbors': [5,10,100],\n",
    "    'algorithm': ['auto', 'ball_tree', 'kd_tree', 'brute'], \n",
    "}\n",
    "\n",
    "knn = KNeighborsClassifier()\n",
    "\n",
    "gs = GridSearchCV(knn, knn_params, cv=5, scoring='precision')\n",
    "gs.fit(x_train.values, y_train.values)"
   ]
  },
  {
   "cell_type": "markdown",
   "metadata": {},
   "source": [
    "Prints the best hyperparameters found by the grid search."
   ]
  },
  {
   "cell_type": "code",
   "execution_count": 29,
   "metadata": {},
   "outputs": [
    {
     "data": {
      "text/plain": [
       "{'algorithm': 'auto', 'n_neighbors': 100}"
      ]
     },
     "execution_count": 29,
     "metadata": {},
     "output_type": "execute_result"
    }
   ],
   "source": [
    "gs.best_params_"
   ]
  },
  {
   "cell_type": "markdown",
   "metadata": {},
   "source": [
    "Replaces the old k-nearest-neighbors model with the hyperparameter tuned version."
   ]
  },
  {
   "cell_type": "code",
   "execution_count": 30,
   "metadata": {},
   "outputs": [
    {
     "data": {
      "text/plain": [
       "KNeighborsClassifier(algorithm='auto', leaf_size=30, metric='minkowski',\n",
       "                     metric_params=None, n_jobs=None, n_neighbors=100, p=2,\n",
       "                     weights='uniform')"
      ]
     },
     "execution_count": 30,
     "metadata": {},
     "output_type": "execute_result"
    }
   ],
   "source": [
    "models['KNeighborsClassifier'] = gs.best_estimator_\n",
    "models['KNeighborsClassifier'].fit(x_train.values, y_train.values)"
   ]
  },
  {
   "cell_type": "markdown",
   "metadata": {},
   "source": [
    "Preformance metrix for the new k-nearest-neighbors model."
   ]
  },
  {
   "cell_type": "code",
   "execution_count": 31,
   "metadata": {},
   "outputs": [
    {
     "name": "stdout",
     "output_type": "stream",
     "text": [
      "              precision    recall  f1-score   support\n",
      "\n",
      "           0       0.97      1.00      0.98      3252\n",
      "           1       0.95      0.73      0.83       328\n",
      "\n",
      "    accuracy                           0.97      3580\n",
      "   macro avg       0.96      0.87      0.91      3580\n",
      "weighted avg       0.97      0.97      0.97      3580\n",
      "\n"
     ]
    }
   ],
   "source": [
    "print(classification_report(y_test.values, models['KNeighborsClassifier'].predict(x_test.values)))"
   ]
  },
  {
   "cell_type": "markdown",
   "metadata": {},
   "source": [
    "# 7) Deploy Monitor Maintain"
   ]
  },
  {
   "cell_type": "markdown",
   "metadata": {},
   "source": [
    "# Deploy\n",
    "\n",
    "For rollout we would have this model in labratories where scientist analyze any cosmic entity. To evaluate time saved we could take n pulsar stars and run an empirical test for time to prove our solution works allowing its implimentation."
   ]
  },
  {
   "cell_type": "markdown",
   "metadata": {},
   "source": [
    "# Monitor\n",
    "\n",
    "In order to monitor our model we can evalutate its preformance periodicaly on non pulsar stars to see if it is making any mistakes."
   ]
  },
  {
   "cell_type": "markdown",
   "metadata": {},
   "source": [
    "# Maintain\n",
    "\n",
    "When monitoring our solution if any major erros arise we can then evaluate any major peformance issues and adjust the model if neccisary to make more accurate predictions. "
   ]
  },
  {
   "cell_type": "markdown",
   "metadata": {},
   "source": [
    "# 8) Summary"
   ]
  },
  {
   "cell_type": "markdown",
   "metadata": {},
   "source": [
    "Overall our models preform well. \n",
    "Ideally it would be nice to be able to contiuously feed new data to the model to enhance its preformance. This is an impossiblity due to the scarcity of the data available and the hope that the implementation of our model would end the need to hand find pulsars. A future iteration would be difficult other than fine tuning this current iteration. The key results we see are that reaching high precision is possible, but at a large cost of recall. While our objective is to minimize incorrcect identification, we seem to be missing a great many stars. "
   ]
  }
 ],
 "metadata": {
  "kernelspec": {
   "display_name": "Python 3",
   "language": "python",
   "name": "python3"
  },
  "language_info": {
   "codemirror_mode": {
    "name": "ipython",
    "version": 3
   },
   "file_extension": ".py",
   "mimetype": "text/x-python",
   "name": "python",
   "nbconvert_exporter": "python",
   "pygments_lexer": "ipython3",
   "version": "3.7.7"
  }
 },
 "nbformat": 4,
 "nbformat_minor": 4
}
